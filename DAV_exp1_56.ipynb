{
  "nbformat": 4,
  "nbformat_minor": 0,
  "metadata": {
    "colab": {
      "provenance": [],
      "authorship_tag": "ABX9TyPTx6GCRkQeBgM2bg66wzhv",
      "include_colab_link": true
    },
    "kernelspec": {
      "name": "ir",
      "display_name": "R"
    },
    "language_info": {
      "name": "R"
    }
  },
  "cells": [
    {
      "cell_type": "markdown",
      "metadata": {
        "id": "view-in-github",
        "colab_type": "text"
      },
      "source": [
        "<a href=\"https://colab.research.google.com/github/Khalid2093/DAV_56/blob/main/DAV_exp1_56.ipynb\" target=\"_parent\"><img src=\"https://colab.research.google.com/assets/colab-badge.svg\" alt=\"Open In Colab\"/></a>"
      ]
    },
    {
      "cell_type": "markdown",
      "source": [
        "# Installing scikit-learn\n"
      ],
      "metadata": {
        "id": "zm_-X79JC62z"
      }
    },
    {
      "cell_type": "code",
      "execution_count": 1,
      "metadata": {
        "colab": {
          "base_uri": "https://localhost:8080/"
        },
        "id": "4SvybgrW7HgU",
        "outputId": "73af39a6-33f3-4d8c-b4a2-deeea1f17d2f"
      },
      "outputs": [
        {
          "output_type": "stream",
          "name": "stdout",
          "text": [
            "Requirement already satisfied: scikit-learn in /usr/local/lib/python3.10/dist-packages (1.2.2)\n",
            "Collecting scikit-learn\n",
            "  Downloading scikit_learn-1.3.2-cp310-cp310-manylinux_2_17_x86_64.manylinux2014_x86_64.whl (10.8 MB)\n",
            "\u001b[2K     \u001b[90m━━━━━━━━━━━━━━━━━━━━━━━━━━━━━━━━━━━━━━━━\u001b[0m \u001b[32m10.8/10.8 MB\u001b[0m \u001b[31m19.8 MB/s\u001b[0m eta \u001b[36m0:00:00\u001b[0m\n",
            "\u001b[?25hRequirement already satisfied: numpy<2.0,>=1.17.3 in /usr/local/lib/python3.10/dist-packages (from scikit-learn) (1.23.5)\n",
            "Requirement already satisfied: scipy>=1.5.0 in /usr/local/lib/python3.10/dist-packages (from scikit-learn) (1.11.4)\n",
            "Requirement already satisfied: joblib>=1.1.1 in /usr/local/lib/python3.10/dist-packages (from scikit-learn) (1.3.2)\n",
            "Requirement already satisfied: threadpoolctl>=2.0.0 in /usr/local/lib/python3.10/dist-packages (from scikit-learn) (3.2.0)\n",
            "Installing collected packages: scikit-learn\n",
            "  Attempting uninstall: scikit-learn\n",
            "    Found existing installation: scikit-learn 1.2.2\n",
            "    Uninstalling scikit-learn-1.2.2:\n",
            "      Successfully uninstalled scikit-learn-1.2.2\n",
            "Successfully installed scikit-learn-1.3.2\n"
          ]
        }
      ],
      "source": [
        "!pip install -U scikit-learn\n"
      ]
    },
    {
      "cell_type": "markdown",
      "source": [
        "# Loadin data set\n",
        "Importing iris dataset provided by the library itself."
      ],
      "metadata": {
        "id": "sFecDYJcDKWS"
      }
    },
    {
      "cell_type": "code",
      "source": [
        "from sklearn.datasets import load_iris\n",
        "iris = load_iris()\n",
        "X = iris.data\n",
        "y = iris.target\n",
        "feature_names = iris.feature_names\n",
        "target_names = iris.target_names\n",
        "print(\"Feature names:\", feature_names)\n",
        "print(\"Target names:\", target_names)\n",
        "print(\"\\nFirst 10 rows of X:\\n\", X[:10])"
      ],
      "metadata": {
        "colab": {
          "base_uri": "https://localhost:8080/"
        },
        "id": "_V4M1g9d8FKc",
        "outputId": "7ee031d8-212a-4285-fabd-3bb234f7137d"
      },
      "execution_count": 2,
      "outputs": [
        {
          "output_type": "stream",
          "name": "stdout",
          "text": [
            "Feature names: ['sepal length (cm)', 'sepal width (cm)', 'petal length (cm)', 'petal width (cm)']\n",
            "Target names: ['setosa' 'versicolor' 'virginica']\n",
            "\n",
            "First 10 rows of X:\n",
            " [[5.1 3.5 1.4 0.2]\n",
            " [4.9 3.  1.4 0.2]\n",
            " [4.7 3.2 1.3 0.2]\n",
            " [4.6 3.1 1.5 0.2]\n",
            " [5.  3.6 1.4 0.2]\n",
            " [5.4 3.9 1.7 0.4]\n",
            " [4.6 3.4 1.4 0.3]\n",
            " [5.  3.4 1.5 0.2]\n",
            " [4.4 2.9 1.4 0.2]\n",
            " [4.9 3.1 1.5 0.1]]\n"
          ]
        }
      ]
    },
    {
      "cell_type": "markdown",
      "source": [
        "# Splitting the data into testing and training"
      ],
      "metadata": {
        "id": "ccpZylD7DlD8"
      }
    },
    {
      "cell_type": "code",
      "source": [
        "from sklearn.datasets import load_iris\n",
        "iris = load_iris()\n",
        "\n",
        "X = iris.data\n",
        "y = iris.target\n",
        "\n",
        "from sklearn.model_selection import train_test_split\n",
        "\n",
        "X_train, X_test, y_train, y_test = train_test_split(\n",
        "   X, y, test_size = 0.3, random_state = 1\n",
        ")\n",
        "\n",
        "print(X_train.shape)\n",
        "print(X_test.shape)\n",
        "\n",
        "print(y_train.shape)\n",
        "print(y_test.shape)"
      ],
      "metadata": {
        "colab": {
          "base_uri": "https://localhost:8080/"
        },
        "id": "PEKX_y-s_hs0",
        "outputId": "66ace05e-4105-45e6-a3fd-1db01dc49b09"
      },
      "execution_count": 3,
      "outputs": [
        {
          "output_type": "stream",
          "name": "stdout",
          "text": [
            "(105, 4)\n",
            "(45, 4)\n",
            "(105,)\n",
            "(45,)\n"
          ]
        }
      ]
    },
    {
      "cell_type": "markdown",
      "source": [
        "# Model selection\n",
        "Selecting and training the model"
      ],
      "metadata": {
        "id": "CbaK-x7iD0Db"
      }
    },
    {
      "cell_type": "code",
      "source": [
        "from sklearn.datasets import load_iris\n",
        "iris = load_iris()\n",
        "X = iris.data\n",
        "y = iris.target\n",
        "from sklearn.model_selection import train_test_split\n",
        "X_train, X_test, y_train, y_test = train_test_split(\n",
        "   X, y, test_size = 0.4, random_state=1\n",
        ")\n",
        "from sklearn.neighbors import KNeighborsClassifier\n",
        "from sklearn import metrics\n",
        "classifier_knn = KNeighborsClassifier(n_neighbors = 3)\n",
        "classifier_knn.fit(X_train, y_train)\n",
        "y_pred = classifier_knn.predict(X_test)\n",
        "# Finding accuracy by comparing actual response values(y_test)with predicted response value(y_pred)\n",
        "print(\"Accuracy:\", metrics.accuracy_score(y_test, y_pred))\n",
        "# Providing sample data and the model will make prediction out of that data\n",
        "\n",
        "sample = [[5, 5, 3, 2], [2, 4, 3, 5]]\n",
        "preds = classifier_knn.predict(sample)\n",
        "pred_species = [iris.target_names[p] for p in preds]\n",
        "print(\"Predictions:\", pred_species)"
      ],
      "metadata": {
        "colab": {
          "base_uri": "https://localhost:8080/"
        },
        "id": "GCRo-b5EAbGk",
        "outputId": "b3812063-44b8-41f6-b3ed-3f95447abcfb"
      },
      "execution_count": 5,
      "outputs": [
        {
          "output_type": "stream",
          "name": "stdout",
          "text": [
            "Accuracy: 0.9833333333333333\n",
            "Predictions: ['versicolor', 'virginica']\n"
          ]
        }
      ]
    },
    {
      "cell_type": "markdown",
      "source": [
        "# **Importing Scipy**"
      ],
      "metadata": {
        "id": "e0yiWHRLEAEa"
      }
    },
    {
      "cell_type": "code",
      "source": [
        "import numpy as np\n",
        "import scipy"
      ],
      "metadata": {
        "id": "MxAwkr6sBCaV"
      },
      "execution_count": 6,
      "outputs": []
    },
    {
      "cell_type": "markdown",
      "source": [
        "# Performing Integration of Functions"
      ],
      "metadata": {
        "id": "0EA9dwiiETyz"
      }
    },
    {
      "cell_type": "code",
      "source": [
        "from scipy.integrate import quad\n",
        "\n",
        "# Define a function to integrate\n",
        "def integrand(x):\n",
        "    return x**2\n",
        "\n",
        "# Integrate the function from 0 to 1\n",
        "result, error = quad(integrand, 0, 1)\n",
        "print(\"Integration result:\", result)"
      ],
      "metadata": {
        "colab": {
          "base_uri": "https://localhost:8080/"
        },
        "id": "gViwiRBNEYWj",
        "outputId": "b13aeb61-1922-4336-cbea-d94259b98d46"
      },
      "execution_count": 7,
      "outputs": [
        {
          "output_type": "stream",
          "name": "stdout",
          "text": [
            "Integration result: 0.33333333333333337\n"
          ]
        }
      ]
    },
    {
      "cell_type": "markdown",
      "source": [
        "# Optimization\n",
        "Optimization is a common task in scientific computing. SciPy provides optimization routines to find the minimum or maximum of a function."
      ],
      "metadata": {
        "id": "ZqdYzvJuEoEq"
      }
    },
    {
      "cell_type": "code",
      "source": [
        "from scipy.optimize import minimize\n",
        "\n",
        "# Define a simple function to minimize\n",
        "def objective_function(x):\n",
        "    return x**2 + 5*x + 6\n",
        "\n",
        "# Minimize the function\n",
        "result = minimize(objective_function, x0=0)\n",
        "print(\"Minimum value:\", result.fun)"
      ],
      "metadata": {
        "colab": {
          "base_uri": "https://localhost:8080/"
        },
        "id": "FVGZmMeWE3LS",
        "outputId": "a6b59b14-d01d-4d1a-bb06-29737ab27a97"
      },
      "execution_count": 8,
      "outputs": [
        {
          "output_type": "stream",
          "name": "stdout",
          "text": [
            "Minimum value: -0.2499999999999991\n"
          ]
        }
      ]
    },
    {
      "cell_type": "markdown",
      "source": [
        "# Linear and Matrix Algebra\n",
        "Determinants and Inverse of matrices can be computed easily using these"
      ],
      "metadata": {
        "id": "lj1Hex5mFR50"
      }
    },
    {
      "cell_type": "code",
      "source": [
        "from scipy.linalg import inv, det\n",
        "\n",
        "# Create a matrix\n",
        "A = np.array([[1, 2], [3, 4]])\n",
        "\n",
        "# Calculate the inverse of the matrix\n",
        "A_inv = inv(A)\n",
        "print(\"Inverse of A:\", A_inv)\n",
        "\n",
        "# Calculate the determinant of the matrix\n",
        "A_det = det(A)\n",
        "print(\"Determinant of A:\", A_det)"
      ],
      "metadata": {
        "colab": {
          "base_uri": "https://localhost:8080/"
        },
        "id": "-U4sjC36FLuU",
        "outputId": "4a25941b-0cbb-46c9-98f4-82662484d768"
      },
      "execution_count": 9,
      "outputs": [
        {
          "output_type": "stream",
          "name": "stdout",
          "text": [
            "Inverse of A: [[-2.   1. ]\n",
            " [ 1.5 -0.5]]\n",
            "Determinant of A: -2.0\n"
          ]
        }
      ]
    },
    {
      "cell_type": "markdown",
      "source": [
        "# **R Experiment**"
      ],
      "metadata": {
        "id": "8nhrOEu-MS2B"
      }
    },
    {
      "cell_type": "markdown",
      "source": [
        "readr library provides a read_csv funtion"
      ],
      "metadata": {
        "id": "ggQwCRwiMXG7"
      }
    },
    {
      "cell_type": "code",
      "source": [
        "library(readr)"
      ],
      "metadata": {
        "id": "ch0zhm16Mnex"
      },
      "execution_count": 1,
      "outputs": []
    },
    {
      "cell_type": "code",
      "source": [
        "df <- read_csv('/content/Data.csv')\n",
        "print(df)"
      ],
      "metadata": {
        "colab": {
          "base_uri": "https://localhost:8080/"
        },
        "id": "7Ee8Cll1MzDk",
        "outputId": "d6077c8f-33ec-4d6a-9dbf-847ddd8196cb"
      },
      "execution_count": 3,
      "outputs": [
        {
          "output_type": "stream",
          "name": "stderr",
          "text": [
            "\u001b[1mRows: \u001b[22m\u001b[34m10\u001b[39m \u001b[1mColumns: \u001b[22m\u001b[34m4\u001b[39m\n",
            "\u001b[36m──\u001b[39m \u001b[1mColumn specification\u001b[22m \u001b[36m────────────────────────────────────────────────────────\u001b[39m\n",
            "\u001b[1mDelimiter:\u001b[22m \",\"\n",
            "\u001b[31mchr\u001b[39m (2): Country, Purchased\n",
            "\u001b[32mdbl\u001b[39m (2): Age, Salary\n",
            "\n",
            "\u001b[36mℹ\u001b[39m Use `spec()` to retrieve the full column specification for this data.\n",
            "\u001b[36mℹ\u001b[39m Specify the column types or set `show_col_types = FALSE` to quiet this message.\n"
          ]
        },
        {
          "output_type": "stream",
          "name": "stdout",
          "text": [
            "\u001b[90m# A tibble: 10 × 4\u001b[39m\n",
            "   Country   Age Salary Purchased\n",
            "   \u001b[3m\u001b[90m<chr>\u001b[39m\u001b[23m   \u001b[3m\u001b[90m<dbl>\u001b[39m\u001b[23m  \u001b[3m\u001b[90m<dbl>\u001b[39m\u001b[23m \u001b[3m\u001b[90m<chr>\u001b[39m\u001b[23m    \n",
            "\u001b[90m 1\u001b[39m France     44  \u001b[4m7\u001b[24m\u001b[4m2\u001b[24m000 No       \n",
            "\u001b[90m 2\u001b[39m Spain      27  \u001b[4m4\u001b[24m\u001b[4m8\u001b[24m000 Yes      \n",
            "\u001b[90m 3\u001b[39m Germany    30  \u001b[4m5\u001b[24m\u001b[4m4\u001b[24m000 No       \n",
            "\u001b[90m 4\u001b[39m Spain      38  \u001b[4m6\u001b[24m\u001b[4m1\u001b[24m000 No       \n",
            "\u001b[90m 5\u001b[39m Germany    40     \u001b[31mNA\u001b[39m Yes      \n",
            "\u001b[90m 6\u001b[39m France     35  \u001b[4m5\u001b[24m\u001b[4m8\u001b[24m000 Yes      \n",
            "\u001b[90m 7\u001b[39m Spain      \u001b[31mNA\u001b[39m  \u001b[4m5\u001b[24m\u001b[4m2\u001b[24m000 No       \n",
            "\u001b[90m 8\u001b[39m France     48  \u001b[4m7\u001b[24m\u001b[4m9\u001b[24m000 Yes      \n",
            "\u001b[90m 9\u001b[39m Germany    50  \u001b[4m8\u001b[24m\u001b[4m3\u001b[24m000 No       \n",
            "\u001b[90m10\u001b[39m France     37  \u001b[4m6\u001b[24m\u001b[4m7\u001b[24m000 Yes      \n"
          ]
        }
      ]
    },
    {
      "cell_type": "code",
      "source": [
        "library(stringr)"
      ],
      "metadata": {
        "id": "CPwd5dWnNjx6"
      },
      "execution_count": 4,
      "outputs": []
    },
    {
      "cell_type": "markdown",
      "source": [
        "stringr provides function to modify strings"
      ],
      "metadata": {
        "id": "J7am6LvjOAxi"
      }
    },
    {
      "cell_type": "code",
      "source": [
        "df$Country <- str_to_lower(df$Country)"
      ],
      "metadata": {
        "id": "HCtxsfh5NnoC"
      },
      "execution_count": 5,
      "outputs": []
    },
    {
      "cell_type": "code",
      "source": [
        "print(df)"
      ],
      "metadata": {
        "colab": {
          "base_uri": "https://localhost:8080/"
        },
        "id": "EZsEc7kTNwM8",
        "outputId": "e7a137f2-6340-48a3-ce4b-603e6027a08f"
      },
      "execution_count": 6,
      "outputs": [
        {
          "output_type": "stream",
          "name": "stdout",
          "text": [
            "\u001b[90m# A tibble: 10 × 4\u001b[39m\n",
            "   Country   Age Salary Purchased\n",
            "   \u001b[3m\u001b[90m<chr>\u001b[39m\u001b[23m   \u001b[3m\u001b[90m<dbl>\u001b[39m\u001b[23m  \u001b[3m\u001b[90m<dbl>\u001b[39m\u001b[23m \u001b[3m\u001b[90m<chr>\u001b[39m\u001b[23m    \n",
            "\u001b[90m 1\u001b[39m france     44  \u001b[4m7\u001b[24m\u001b[4m2\u001b[24m000 No       \n",
            "\u001b[90m 2\u001b[39m spain      27  \u001b[4m4\u001b[24m\u001b[4m8\u001b[24m000 Yes      \n",
            "\u001b[90m 3\u001b[39m germany    30  \u001b[4m5\u001b[24m\u001b[4m4\u001b[24m000 No       \n",
            "\u001b[90m 4\u001b[39m spain      38  \u001b[4m6\u001b[24m\u001b[4m1\u001b[24m000 No       \n",
            "\u001b[90m 5\u001b[39m germany    40     \u001b[31mNA\u001b[39m Yes      \n",
            "\u001b[90m 6\u001b[39m france     35  \u001b[4m5\u001b[24m\u001b[4m8\u001b[24m000 Yes      \n",
            "\u001b[90m 7\u001b[39m spain      \u001b[31mNA\u001b[39m  \u001b[4m5\u001b[24m\u001b[4m2\u001b[24m000 No       \n",
            "\u001b[90m 8\u001b[39m france     48  \u001b[4m7\u001b[24m\u001b[4m9\u001b[24m000 Yes      \n",
            "\u001b[90m 9\u001b[39m germany    50  \u001b[4m8\u001b[24m\u001b[4m3\u001b[24m000 No       \n",
            "\u001b[90m10\u001b[39m france     37  \u001b[4m6\u001b[24m\u001b[4m7\u001b[24m000 Yes      \n"
          ]
        }
      ]
    }
  ]
}