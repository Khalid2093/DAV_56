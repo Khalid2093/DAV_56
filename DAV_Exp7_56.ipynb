{
  "nbformat": 4,
  "nbformat_minor": 0,
  "metadata": {
    "colab": {
      "provenance": [],
      "include_colab_link": true
    },
    "kernelspec": {
      "name": "ir",
      "display_name": "R"
    },
    "language_info": {
      "name": "R"
    }
  },
  "cells": [
    {
      "cell_type": "markdown",
      "metadata": {
        "id": "view-in-github",
        "colab_type": "text"
      },
      "source": [
        "<a href=\"https://colab.research.google.com/github/Khalid2093/DAV_56/blob/main/DAV_Exp7_56.ipynb\" target=\"_parent\"><img src=\"https://colab.research.google.com/assets/colab-badge.svg\" alt=\"Open In Colab\"/></a>"
      ]
    },
    {
      "cell_type": "markdown",
      "source": [
        "# AIM:\n",
        "Perform the steps involved in Text Analytics in Python & R"
      ],
      "metadata": {
        "id": "uM6AMXDFgxsk"
      }
    },
    {
      "cell_type": "markdown",
      "source": [
        "# Task to be performend\n",
        "1. Explore Top-5 Text Analytics Libraries in Python (w.r.t Features & Applications)\n",
        "2. Explore Top-5 Text Analytics Libraries in R (w.r.t Features & Applications)\n",
        "3. Perform the following experiments using Python & R\n",
        "\n",
        "  - Tokenization (Sentence & Word)\n",
        "  - Frequency Distribution\n",
        "  - Remove stopwords & punctuations\n",
        "  - Lexicon Normalization (Stemming, Lemmatization)\n",
        "  - Part of Speech tagging\n",
        "  - Named Entity Recognization\n",
        "  - Scrape data from a website"
      ],
      "metadata": {
        "id": "rDiRtAt6g_-F"
      }
    },
    {
      "cell_type": "markdown",
      "source": [
        "# **TEXT ANALYSIS IN PYTHON**"
      ],
      "metadata": {
        "id": "dt6n8ienyAss"
      }
    },
    {
      "cell_type": "code",
      "execution_count": 1,
      "metadata": {
        "id": "SU_QPcdlgssK"
      },
      "outputs": [],
      "source": [
        "from nltk.tokenize import sent_tokenize"
      ]
    },
    {
      "cell_type": "code",
      "source": [
        "import nltk\n",
        "nltk.download('punkt')"
      ],
      "metadata": {
        "colab": {
          "base_uri": "https://localhost:8080/"
        },
        "id": "g0Yvuk0QjynM",
        "outputId": "e3e676e8-6b9d-4d58-8669-7fb5c6028c70"
      },
      "execution_count": 2,
      "outputs": [
        {
          "output_type": "stream",
          "name": "stderr",
          "text": [
            "[nltk_data] Downloading package punkt to /root/nltk_data...\n",
            "[nltk_data]   Unzipping tokenizers/punkt.zip.\n"
          ]
        },
        {
          "output_type": "execute_result",
          "data": {
            "text/plain": [
              "True"
            ]
          },
          "metadata": {},
          "execution_count": 2
        }
      ]
    },
    {
      "cell_type": "markdown",
      "source": [
        "**Tokenization - sentence**"
      ],
      "metadata": {
        "id": "PMyQ_zJBj6HU"
      }
    },
    {
      "cell_type": "code",
      "source": [
        "sentence=\"The enemy stood right in front of the brave warriors but they were determined to risk it all for the their land and their loved ones they have left behind. The atmosphere was tense, with stench of fear and despair engulfing every hair of the body\"\n",
        "tokenized_text=sent_tokenize(sentence)\n",
        "print(tokenized_text)"
      ],
      "metadata": {
        "id": "6bGn99-TiDlX",
        "colab": {
          "base_uri": "https://localhost:8080/"
        },
        "outputId": "d8597be7-15d6-4634-d271-e33fbd648a6e"
      },
      "execution_count": 3,
      "outputs": [
        {
          "output_type": "stream",
          "name": "stdout",
          "text": [
            "['The enemy stood right in front of the brave warriors but they were determined to risk it all for the their land and their loved ones they have left behind.', 'The atmosphere was tense, with stench of fear and despair engulfing every hair of the body']\n"
          ]
        }
      ]
    },
    {
      "cell_type": "markdown",
      "source": [
        "**Tokenization - words**"
      ],
      "metadata": {
        "id": "7gd1JEGnkAPF"
      }
    },
    {
      "cell_type": "code",
      "source": [
        "from nltk.tokenize import word_tokenize"
      ],
      "metadata": {
        "id": "GNas3jd6jOjl"
      },
      "execution_count": 4,
      "outputs": []
    },
    {
      "cell_type": "code",
      "source": [
        "tokenized_to_word = word_tokenize(sentence)"
      ],
      "metadata": {
        "id": "C-Tuw_PBkRst"
      },
      "execution_count": 5,
      "outputs": []
    },
    {
      "cell_type": "code",
      "source": [
        "print(tokenized_to_word)"
      ],
      "metadata": {
        "colab": {
          "base_uri": "https://localhost:8080/"
        },
        "id": "XUcj5ijjkYzz",
        "outputId": "b8420866-1c1b-4b3c-be11-34b949b0c4b5"
      },
      "execution_count": 6,
      "outputs": [
        {
          "output_type": "stream",
          "name": "stdout",
          "text": [
            "['The', 'enemy', 'stood', 'right', 'in', 'front', 'of', 'the', 'brave', 'warriors', 'but', 'they', 'were', 'determined', 'to', 'risk', 'it', 'all', 'for', 'the', 'their', 'land', 'and', 'their', 'loved', 'ones', 'they', 'have', 'left', 'behind', '.', 'The', 'atmosphere', 'was', 'tense', ',', 'with', 'stench', 'of', 'fear', 'and', 'despair', 'engulfing', 'every', 'hair', 'of', 'the', 'body']\n"
          ]
        }
      ]
    },
    {
      "cell_type": "markdown",
      "source": [
        "**Frequency Distribution**"
      ],
      "metadata": {
        "id": "NcXfMh_flG5s"
      }
    },
    {
      "cell_type": "code",
      "source": [
        "from nltk.probability import FreqDist"
      ],
      "metadata": {
        "id": "gfNis3Tzko9T"
      },
      "execution_count": 7,
      "outputs": []
    },
    {
      "cell_type": "code",
      "source": [
        "fd=FreqDist(tokenized_to_word)"
      ],
      "metadata": {
        "id": "Tl2GOJNemBqL"
      },
      "execution_count": 8,
      "outputs": []
    },
    {
      "cell_type": "code",
      "source": [
        "print(fd)"
      ],
      "metadata": {
        "colab": {
          "base_uri": "https://localhost:8080/"
        },
        "id": "ko5irYDSm6VU",
        "outputId": "467b7898-1f75-47a0-9b62-8c58bf471857"
      },
      "execution_count": 9,
      "outputs": [
        {
          "output_type": "stream",
          "name": "stdout",
          "text": [
            "<FreqDist with 40 samples and 48 outcomes>\n"
          ]
        }
      ]
    },
    {
      "cell_type": "code",
      "source": [
        "print(fd.most_common(2))"
      ],
      "metadata": {
        "colab": {
          "base_uri": "https://localhost:8080/"
        },
        "id": "2HM7Sg_5mRaU",
        "outputId": "d1b69d15-65a5-4514-f400-2ed750926fe4"
      },
      "execution_count": 10,
      "outputs": [
        {
          "output_type": "stream",
          "name": "stdout",
          "text": [
            "[('of', 3), ('the', 3)]\n"
          ]
        }
      ]
    },
    {
      "cell_type": "code",
      "source": [
        "import matplotlib.pyplot as plt"
      ],
      "metadata": {
        "id": "oMdzg0FxmJPa"
      },
      "execution_count": 11,
      "outputs": []
    },
    {
      "cell_type": "code",
      "source": [
        "fd.plot(24, cumulative=False)\n",
        "plt.show()"
      ],
      "metadata": {
        "colab": {
          "base_uri": "https://localhost:8080/",
          "height": 516
        },
        "id": "K_t5hNn1mjjK",
        "outputId": "b053fc9d-8cb7-4179-c504-5c56c112ed1d"
      },
      "execution_count": 12,
      "outputs": [
        {
          "output_type": "display_data",
          "data": {
            "text/plain": [
              "<Figure size 640x480 with 1 Axes>"
            ],
            "image/png": "[encoded data removed]"
          },
          "metadata": {}
        }
      ]
    },
    {
      "cell_type": "markdown",
      "source": [
        "**Stopwords and punctuations**"
      ],
      "metadata": {
        "id": "xcwxQTntnOQl"
      }
    },
    {
      "cell_type": "markdown",
      "source": [
        "Stopwords are considered noise in text. Text may contain stop words such as is, am, are, this, a, an, the, etc."
      ],
      "metadata": {
        "id": "NtoFObApnSmi"
      }
    },
    {
      "cell_type": "code",
      "source": [
        "from nltk.corpus import stopwords"
      ],
      "metadata": {
        "id": "kL3L4MpGmqh6"
      },
      "execution_count": 13,
      "outputs": []
    },
    {
      "cell_type": "code",
      "source": [
        "nltk.download('stopwords')"
      ],
      "metadata": {
        "colab": {
          "base_uri": "https://localhost:8080/"
        },
        "id": "koEkSj24n3XT",
        "outputId": "d55aff06-bbc9-4719-be72-78a9bfde2655"
      },
      "execution_count": 14,
      "outputs": [
        {
          "output_type": "stream",
          "name": "stderr",
          "text": [
            "[nltk_data] Downloading package stopwords to /root/nltk_data...\n",
            "[nltk_data]   Unzipping corpora/stopwords.zip.\n"
          ]
        },
        {
          "output_type": "execute_result",
          "data": {
            "text/plain": [
              "True"
            ]
          },
          "metadata": {},
          "execution_count": 14
        }
      ]
    },
    {
      "cell_type": "code",
      "source": [
        "sw = set(stopwords.words(\"english\"))"
      ],
      "metadata": {
        "id": "VK0UhF_hniDr"
      },
      "execution_count": 15,
      "outputs": []
    },
    {
      "cell_type": "code",
      "source": [
        "print(sw)"
      ],
      "metadata": {
        "colab": {
          "base_uri": "https://localhost:8080/"
        },
        "id": "eeyPgrI-nqF0",
        "outputId": "7828c3a7-f89e-40c5-a011-402b9ad671f6"
      },
      "execution_count": 16,
      "outputs": [
        {
          "output_type": "stream",
          "name": "stdout",
          "text": [
            "{'very', \"haven't\", 'don', 'more', 'as', 'you', 'had', 'while', 's', 'they', 'most', 'same', 'by', 'yours', \"shouldn't\", 'once', 'only', 'mightn', 'of', 'off', 'how', 'can', \"don't\", 'too', \"won't\", 'my', 'be', 'to', 'no', \"doesn't\", \"wasn't\", 'wouldn', 'own', 'ain', \"needn't\", 'doesn', 'have', 'themselves', \"you'll\", \"she's\", \"you'd\", 'she', 'being', 'does', 'hadn', 'whom', 'didn', 'himself', 'we', 'isn', 'between', 'all', 'its', 'was', 'ourselves', 'now', 'having', 'about', 'these', 'hers', \"mightn't\", 'me', 'other', \"isn't\", 'ma', 'then', 'did', 'will', 'couldn', 'with', 'her', 'into', 'after', 'below', 'from', 'o', 'mustn', 'but', 'myself', 'ours', 'him', 'herself', 'y', 'it', 'some', 'yourself', 'won', 'than', \"it's\", 'this', 'he', 'further', \"you're\", \"aren't\", \"shan't\", 'on', 'not', 'weren', 'at', 've', 'wasn', 'here', 'his', 're', 'before', 'until', \"wouldn't\", 'the', \"you've\", 'yourselves', 'which', 'or', 'against', 'been', 'haven', 'needn', 'should', 'is', 'such', 'hasn', 'in', 'an', 'down', 't', 'that', 'those', \"should've\", 'do', 'were', 'through', 'under', 'few', 'so', \"that'll\", 'shouldn', 'shan', \"weren't\", 'any', 'are', \"hadn't\", 'why', 'when', 'up', 'doing', 'above', 'a', 'out', 'aren', 'over', 'i', 'just', 'their', 'them', 'our', 'if', 'again', 'what', 'and', 'both', 'who', 'am', 'nor', 'itself', 'each', \"hasn't\", \"couldn't\", 'for', 'where', 'because', 'theirs', 'd', \"didn't\", 'm', 'during', 'll', \"mustn't\", 'your', 'there', 'has'}\n"
          ]
        }
      ]
    },
    {
      "cell_type": "code",
      "source": [
        "filtered_tokens=[]\n",
        "for w in tokenized_to_word:\n",
        "    if w not in sw:\n",
        "         filtered_tokens.append(w)\n",
        "\n",
        "print(\"Tokenized Words:\",tokenized_to_word)\n",
        "print(\"Filterd Tokens:\",filtered_tokens)"
      ],
      "metadata": {
        "colab": {
          "base_uri": "https://localhost:8080/"
        },
        "id": "mSnp4K9QoJnT",
        "outputId": "7c281fd1-229a-4af5-cc47-243398120c62"
      },
      "execution_count": 17,
      "outputs": [
        {
          "output_type": "stream",
          "name": "stdout",
          "text": [
            "Tokenized Words: ['The', 'enemy', 'stood', 'right', 'in', 'front', 'of', 'the', 'brave', 'warriors', 'but', 'they', 'were', 'determined', 'to', 'risk', 'it', 'all', 'for', 'the', 'their', 'land', 'and', 'their', 'loved', 'ones', 'they', 'have', 'left', 'behind', '.', 'The', 'atmosphere', 'was', 'tense', ',', 'with', 'stench', 'of', 'fear', 'and', 'despair', 'engulfing', 'every', 'hair', 'of', 'the', 'body']\n",
            "Filterd Tokens: ['The', 'enemy', 'stood', 'right', 'front', 'brave', 'warriors', 'determined', 'risk', 'land', 'loved', 'ones', 'left', 'behind', '.', 'The', 'atmosphere', 'tense', ',', 'stench', 'fear', 'despair', 'engulfing', 'every', 'hair', 'body']\n"
          ]
        }
      ]
    },
    {
      "cell_type": "code",
      "source": [
        "import string"
      ],
      "metadata": {
        "id": "6ZFg3zLdoiWj"
      },
      "execution_count": 18,
      "outputs": []
    },
    {
      "cell_type": "code",
      "source": [
        "punctuations=list(string.punctuation)"
      ],
      "metadata": {
        "id": "EWxqqz3ropm8"
      },
      "execution_count": 19,
      "outputs": []
    },
    {
      "cell_type": "code",
      "source": [
        "filtered_tokens2=[]\n",
        "\n",
        "for i in filtered_tokens:\n",
        "    if i not in punctuations:\n",
        "        filtered_tokens2.append(i)\n",
        "\n",
        "print(\"Filterd Tokens After Removing Punctuations:\",filtered_tokens2)"
      ],
      "metadata": {
        "colab": {
          "base_uri": "https://localhost:8080/"
        },
        "id": "Ze8H63PIox6k",
        "outputId": "cf89fc69-776e-4e96-deb0-daf03a227047"
      },
      "execution_count": 20,
      "outputs": [
        {
          "output_type": "stream",
          "name": "stdout",
          "text": [
            "Filterd Tokens After Removing Punctuations: ['The', 'enemy', 'stood', 'right', 'front', 'brave', 'warriors', 'determined', 'risk', 'land', 'loved', 'ones', 'left', 'behind', 'The', 'atmosphere', 'tense', 'stench', 'fear', 'despair', 'engulfing', 'every', 'hair', 'body']\n"
          ]
        }
      ]
    },
    {
      "cell_type": "markdown",
      "source": [
        "**Lexicon Normalization**\n",
        "\n",
        "Lexicon normalization considered as another type of noise in text. for example, connection, connected, connecting word reduce to a common word “connect”. It reduces derivationally related forms of a word to a common root word."
      ],
      "metadata": {
        "id": "53L6mIitpa1z"
      }
    },
    {
      "cell_type": "markdown",
      "source": [
        "STEMMING"
      ],
      "metadata": {
        "id": "Ran5txWsrevv"
      }
    },
    {
      "cell_type": "code",
      "source": [
        "from nltk.stem import PorterStemmer"
      ],
      "metadata": {
        "id": "1pZ3ruVOo1mk"
      },
      "execution_count": 21,
      "outputs": []
    },
    {
      "cell_type": "code",
      "source": [
        "ps=PorterStemmer()"
      ],
      "metadata": {
        "id": "2GKy_q21perL"
      },
      "execution_count": 22,
      "outputs": []
    },
    {
      "cell_type": "code",
      "source": [
        "stemmed_words=[]\n",
        "\n",
        "for w in filtered_tokens2:\n",
        "     stemmed_words.append(ps.stem(w))\n",
        "\n",
        "print(\"Filtered Tokens After Removing Punctuations:\",filtered_tokens2)\n",
        "print(\"Stemmed Tokens:\",stemmed_words)"
      ],
      "metadata": {
        "colab": {
          "base_uri": "https://localhost:8080/"
        },
        "id": "HirqYFtxpz_E",
        "outputId": "7a2dd479-9f32-4ac2-d69d-7416a8da23d2"
      },
      "execution_count": 23,
      "outputs": [
        {
          "output_type": "stream",
          "name": "stdout",
          "text": [
            "Filtered Tokens After Removing Punctuations: ['The', 'enemy', 'stood', 'right', 'front', 'brave', 'warriors', 'determined', 'risk', 'land', 'loved', 'ones', 'left', 'behind', 'The', 'atmosphere', 'tense', 'stench', 'fear', 'despair', 'engulfing', 'every', 'hair', 'body']\n",
            "Stemmed Tokens: ['the', 'enemi', 'stood', 'right', 'front', 'brave', 'warrior', 'determin', 'risk', 'land', 'love', 'one', 'left', 'behind', 'the', 'atmospher', 'tens', 'stench', 'fear', 'despair', 'engulf', 'everi', 'hair', 'bodi']\n"
          ]
        }
      ]
    },
    {
      "cell_type": "markdown",
      "source": [
        "LEMMATIZATION"
      ],
      "metadata": {
        "id": "T7pWEbQArgzL"
      }
    },
    {
      "cell_type": "code",
      "source": [
        "from nltk.stem.wordnet import WordNetLemmatizer"
      ],
      "metadata": {
        "id": "zG2Qmk9Tq_3s"
      },
      "execution_count": 24,
      "outputs": []
    },
    {
      "cell_type": "code",
      "source": [
        "lem = WordNetLemmatizer()\n",
        "stem = PorterStemmer()\n",
        "word = \"LEARNING\""
      ],
      "metadata": {
        "id": "rc07XzIbrie7"
      },
      "execution_count": 25,
      "outputs": []
    },
    {
      "cell_type": "code",
      "source": [
        "nltk.download('wordnet')"
      ],
      "metadata": {
        "colab": {
          "base_uri": "https://localhost:8080/"
        },
        "id": "jkYsH1TWrw41",
        "outputId": "af360357-9157-4825-b0e5-872e58900e33"
      },
      "execution_count": 26,
      "outputs": [
        {
          "output_type": "stream",
          "name": "stderr",
          "text": [
            "[nltk_data] Downloading package wordnet to /root/nltk_data...\n"
          ]
        },
        {
          "output_type": "execute_result",
          "data": {
            "text/plain": [
              "True"
            ]
          },
          "metadata": {},
          "execution_count": 26
        }
      ]
    },
    {
      "cell_type": "code",
      "source": [
        "print(\"Lemmatized Word:\",lem.lemmatize(word,\"v\"))\n",
        "print(\"Stemmed Word:\",stem.stem(word))"
      ],
      "metadata": {
        "colab": {
          "base_uri": "https://localhost:8080/"
        },
        "id": "_PnSVYeorq_z",
        "outputId": "712b434e-1597-48ac-bc3e-7dbb68d2ccbf"
      },
      "execution_count": 27,
      "outputs": [
        {
          "output_type": "stream",
          "name": "stdout",
          "text": [
            "Lemmatized Word: LEARNING\n",
            "Stemmed Word: learn\n"
          ]
        }
      ]
    },
    {
      "cell_type": "markdown",
      "source": [
        "**Part of Speech tagging**\n",
        "\n",
        "The main target of Part-of-Speech(POS) tagging is to identify the grammatical group of a given word. Whether it is a NOUN, PRONOUN, ADJECTIVE, VERB, ADVERBS, etc. based on the context.\n",
        "\n",
        "POS Tagging looks for relationships within the sentence and assigns a corresponding tag to the word."
      ],
      "metadata": {
        "id": "mbtetnSmsCFM"
      }
    },
    {
      "cell_type": "code",
      "source": [
        "from nltk import pos_tag"
      ],
      "metadata": {
        "id": "dDw6nmjNruHU"
      },
      "execution_count": 28,
      "outputs": []
    },
    {
      "cell_type": "code",
      "source": [
        "nltk.download('averaged_perceptron_tagger')"
      ],
      "metadata": {
        "colab": {
          "base_uri": "https://localhost:8080/"
        },
        "id": "nDprH6tcs8td",
        "outputId": "4a9e44a8-bbb4-4db8-e6c1-e1a0d1bfe979"
      },
      "execution_count": 29,
      "outputs": [
        {
          "output_type": "stream",
          "name": "stderr",
          "text": [
            "[nltk_data] Downloading package averaged_perceptron_tagger to\n",
            "[nltk_data]     /root/nltk_data...\n",
            "[nltk_data]   Unzipping taggers/averaged_perceptron_tagger.zip.\n"
          ]
        },
        {
          "output_type": "execute_result",
          "data": {
            "text/plain": [
              "True"
            ]
          },
          "metadata": {},
          "execution_count": 29
        }
      ]
    },
    {
      "cell_type": "code",
      "source": [
        "s = \"Here we are testing speech tagging\"\n",
        "tokens = word_tokenize(s)\n",
        "pos = pos_tag(tokens)\n",
        "\n",
        "print(\"Tokens:\",tokens)\n",
        "print(\"PoS tags:\",pos)"
      ],
      "metadata": {
        "colab": {
          "base_uri": "https://localhost:8080/"
        },
        "id": "33ZofpUrsRVa",
        "outputId": "73debd81-31b7-4321-f944-07ffa5a5737b"
      },
      "execution_count": 30,
      "outputs": [
        {
          "output_type": "stream",
          "name": "stdout",
          "text": [
            "Tokens: ['Here', 'we', 'are', 'testing', 'speech', 'tagging']\n",
            "PoS tags: [('Here', 'RB'), ('we', 'PRP'), ('are', 'VBP'), ('testing', 'VBG'), ('speech', 'NN'), ('tagging', 'NN')]\n"
          ]
        }
      ]
    },
    {
      "cell_type": "markdown",
      "source": [
        "**Named Entity Recognition**"
      ],
      "metadata": {
        "id": "CKJeM-aftJnT"
      }
    },
    {
      "cell_type": "code",
      "source": [
        "from nltk import ne_chunk"
      ],
      "metadata": {
        "id": "Dsddqrr0s6NT"
      },
      "execution_count": 31,
      "outputs": []
    },
    {
      "cell_type": "code",
      "source": [
        "sent = \"Just like Windows, iOS, and Mac OS, Linux is an operating system. In fact, one of the most popular platforms on the planet, Android, is powered by the Linux operating system\""
      ],
      "metadata": {
        "id": "_kV_oUR3tP_i"
      },
      "execution_count": 32,
      "outputs": []
    },
    {
      "cell_type": "code",
      "source": [
        "nltk.download('maxent_ne_chunker')"
      ],
      "metadata": {
        "colab": {
          "base_uri": "https://localhost:8080/"
        },
        "id": "f5yiv8BZulDV",
        "outputId": "bc3d49e5-a79e-462e-8146-58bb03ff382d"
      },
      "execution_count": 33,
      "outputs": [
        {
          "output_type": "stream",
          "name": "stderr",
          "text": [
            "[nltk_data] Downloading package maxent_ne_chunker to\n",
            "[nltk_data]     /root/nltk_data...\n",
            "[nltk_data]   Unzipping chunkers/maxent_ne_chunker.zip.\n"
          ]
        },
        {
          "output_type": "execute_result",
          "data": {
            "text/plain": [
              "True"
            ]
          },
          "metadata": {},
          "execution_count": 33
        }
      ]
    },
    {
      "cell_type": "code",
      "source": [
        "nltk.download('words')"
      ],
      "metadata": {
        "colab": {
          "base_uri": "https://localhost:8080/"
        },
        "id": "35ugsiNIuqqj",
        "outputId": "2b41b4d7-7643-43ed-b2b3-1e3449460f8f"
      },
      "execution_count": 34,
      "outputs": [
        {
          "output_type": "stream",
          "name": "stderr",
          "text": [
            "[nltk_data] Downloading package words to /root/nltk_data...\n",
            "[nltk_data]   Unzipping corpora/words.zip.\n"
          ]
        },
        {
          "output_type": "execute_result",
          "data": {
            "text/plain": [
              "True"
            ]
          },
          "metadata": {},
          "execution_count": 34
        }
      ]
    },
    {
      "cell_type": "code",
      "source": [
        "for chunk in ne_chunk(nltk.pos_tag(word_tokenize(sent))):\n",
        "        if hasattr(chunk, 'label'):\n",
        "            print(chunk.label(), ' '.join(c[0] for c in chunk))"
      ],
      "metadata": {
        "colab": {
          "base_uri": "https://localhost:8080/"
        },
        "id": "Qb6Au6UpuZqE",
        "outputId": "b51c9a86-ce7b-46db-c101-72e73005674e"
      },
      "execution_count": 35,
      "outputs": [
        {
          "output_type": "stream",
          "name": "stdout",
          "text": [
            "PERSON Windows\n",
            "ORGANIZATION iOS\n",
            "PERSON Mac OS\n",
            "PERSON Linux\n",
            "PERSON Android\n",
            "ORGANIZATION Linux\n"
          ]
        }
      ]
    },
    {
      "cell_type": "markdown",
      "source": [
        "# **TEXT ANALYSIS IN R**"
      ],
      "metadata": {
        "id": "IQyppPnbyG0b"
      }
    },
    {
      "cell_type": "markdown",
      "source": [
        "**Tokenization**"
      ],
      "metadata": {
        "id": "SCGi7hXhyKZ9"
      }
    },
    {
      "cell_type": "code",
      "source": [
        "install.packages(\"tokenizers\")"
      ],
      "metadata": {
        "colab": {
          "base_uri": "https://localhost:8080/"
        },
        "id": "WkAGLjEbyJZk",
        "outputId": "aa5931f0-617e-4b0e-d5b0-ba84ee8153bb"
      },
      "execution_count": 1,
      "outputs": [
        {
          "output_type": "stream",
          "name": "stderr",
          "text": [
            "Installing package into ‘/usr/local/lib/R/site-library’\n",
            "(as ‘lib’ is unspecified)\n",
            "\n",
            "also installing the dependencies ‘Rcpp’, ‘SnowballC’\n",
            "\n",
            "\n"
          ]
        }
      ]
    },
    {
      "cell_type": "code",
      "source": [
        "library(tokenizers)"
      ],
      "metadata": {
        "id": "jbz-oqxZyT-k"
      },
      "execution_count": 2,
      "outputs": []
    },
    {
      "cell_type": "code",
      "source": [
        "text <- \"The enemy stood right in front of the brave warriors but they were determined to risk it all for the their land and their loved ones they have left behind. The atmosphere was tense, with stench of fear and despair engulfing every hair of the body.\""
      ],
      "metadata": {
        "id": "iGf4qRcJyxYV"
      },
      "execution_count": 3,
      "outputs": []
    },
    {
      "cell_type": "code",
      "source": [
        "word_tokenize <- unlist(tokenize_words(text))\n",
        "print(word_tokenize)"
      ],
      "metadata": {
        "colab": {
          "base_uri": "https://localhost:8080/"
        },
        "id": "M1scLlWWzRZ9",
        "outputId": "d81b4af7-8f32-445a-9312-b58cd0ae1689"
      },
      "execution_count": 4,
      "outputs": [
        {
          "output_type": "stream",
          "name": "stdout",
          "text": [
            " [1] \"the\"        \"enemy\"      \"stood\"      \"right\"      \"in\"        \n",
            " [6] \"front\"      \"of\"         \"the\"        \"brave\"      \"warriors\"  \n",
            "[11] \"but\"        \"they\"       \"were\"       \"determined\" \"to\"        \n",
            "[16] \"risk\"       \"it\"         \"all\"        \"for\"        \"the\"       \n",
            "[21] \"their\"      \"land\"       \"and\"        \"their\"      \"loved\"     \n",
            "[26] \"ones\"       \"they\"       \"have\"       \"left\"       \"behind\"    \n",
            "[31] \"the\"        \"atmosphere\" \"was\"        \"tense\"      \"with\"      \n",
            "[36] \"stench\"     \"of\"         \"fear\"       \"and\"        \"despair\"   \n",
            "[41] \"engulfing\"  \"every\"      \"hair\"       \"of\"         \"the\"       \n",
            "[46] \"body\"      \n"
          ]
        }
      ]
    },
    {
      "cell_type": "markdown",
      "source": [
        "**Stopwords**"
      ],
      "metadata": {
        "id": "C60Fbzwi00FL"
      }
    },
    {
      "cell_type": "code",
      "source": [
        "txt <- \"Thank you for attending this beautiful colab notebook\""
      ],
      "metadata": {
        "id": "CgXuB953zajs"
      },
      "execution_count": 5,
      "outputs": []
    },
    {
      "cell_type": "code",
      "source": [
        "stop_word <- unlist(tokenize_words(text,lowercase = TRUE,stopwords = (\"to\"), strip_punct = TRUE, strip_numeric = TRUE, simplify = FALSE))\n",
        "print(stop_word)"
      ],
      "metadata": {
        "colab": {
          "base_uri": "https://localhost:8080/"
        },
        "id": "4NWT9rJT1J7f",
        "outputId": "bf96e720-6481-4a8d-fda3-a64b7e0bc60d"
      },
      "execution_count": 6,
      "outputs": [
        {
          "output_type": "stream",
          "name": "stdout",
          "text": [
            " [1] \"the\"        \"enemy\"      \"stood\"      \"right\"      \"in\"        \n",
            " [6] \"front\"      \"of\"         \"the\"        \"brave\"      \"warriors\"  \n",
            "[11] \"but\"        \"they\"       \"were\"       \"determined\" \"risk\"      \n",
            "[16] \"it\"         \"all\"        \"for\"        \"the\"        \"their\"     \n",
            "[21] \"land\"       \"and\"        \"their\"      \"loved\"      \"ones\"      \n",
            "[26] \"they\"       \"have\"       \"left\"       \"behind\"     \"the\"       \n",
            "[31] \"atmosphere\" \"was\"        \"tense\"      \"with\"       \"stench\"    \n",
            "[36] \"of\"         \"fear\"       \"and\"        \"despair\"    \"engulfing\" \n",
            "[41] \"every\"      \"hair\"       \"of\"         \"the\"        \"body\"      \n"
          ]
        }
      ]
    },
    {
      "cell_type": "markdown",
      "source": [
        "**Frequency Distribution**"
      ],
      "metadata": {
        "id": "ikazjIS8NQJv"
      }
    },
    {
      "cell_type": "code",
      "source": [
        " library(\"dplyr\")"
      ],
      "metadata": {
        "id": "7h9QKsz91i-b",
        "colab": {
          "base_uri": "https://localhost:8080/"
        },
        "outputId": "36c77de7-a2a1-4385-f245-97487a50e54b"
      },
      "execution_count": 7,
      "outputs": [
        {
          "output_type": "stream",
          "name": "stderr",
          "text": [
            "\n",
            "Attaching package: ‘dplyr’\n",
            "\n",
            "\n",
            "The following objects are masked from ‘package:stats’:\n",
            "\n",
            "    filter, lag\n",
            "\n",
            "\n",
            "The following objects are masked from ‘package:base’:\n",
            "\n",
            "    intersect, setdiff, setequal, union\n",
            "\n",
            "\n"
          ]
        }
      ]
    },
    {
      "cell_type": "code",
      "source": [
        "df <- data.frame(col1 = c(\"DAV\",\"ML\",\"CSS\",\"SEPM\",\"R\", \"IVP\",\"DAV\",\"CSS\",\"ML\",\"DAV\", \"CSS\",\"SEPM\",\"DAV\",\"DAV\",\"CSS\"))"
      ],
      "metadata": {
        "id": "Stkg6-flNhdK"
      },
      "execution_count": 8,
      "outputs": []
    },
    {
      "cell_type": "code",
      "source": [
        "print(\"Original Data\")\n",
        "print(df)\n",
        "df %>%\n",
        "  count(col1)"
      ],
      "metadata": {
        "colab": {
          "base_uri": "https://localhost:8080/",
          "height": 599
        },
        "id": "WvVMPeBhOHuA",
        "outputId": "1027ddda-5e68-49a4-f4fb-cd3031fa0f05"
      },
      "execution_count": 9,
      "outputs": [
        {
          "output_type": "stream",
          "name": "stdout",
          "text": [
            "[1] \"Original Data\"\n",
            "   col1\n",
            "1   DAV\n",
            "2    ML\n",
            "3   CSS\n",
            "4  SEPM\n",
            "5     R\n",
            "6   IVP\n",
            "7   DAV\n",
            "8   CSS\n",
            "9    ML\n",
            "10  DAV\n",
            "11  CSS\n",
            "12 SEPM\n",
            "13  DAV\n",
            "14  DAV\n",
            "15  CSS\n"
          ]
        },
        {
          "output_type": "display_data",
          "data": {
            "text/html": [
              "<table class=\"dataframe\">\n",
              "<caption>A data.frame: 6 × 2</caption>\n",
              "<thead>\n",
              "\t<tr><th scope=col>col1</th><th scope=col>n</th></tr>\n",
              "\t<tr><th scope=col>&lt;chr&gt;</th><th scope=col>&lt;int&gt;</th></tr>\n",
              "</thead>\n",
              "<tbody>\n",
              "\t<tr><td>CSS </td><td>4</td></tr>\n",
              "\t<tr><td>DAV </td><td>5</td></tr>\n",
              "\t<tr><td>IVP </td><td>1</td></tr>\n",
              "\t<tr><td>ML  </td><td>2</td></tr>\n",
              "\t<tr><td>R   </td><td>1</td></tr>\n",
              "\t<tr><td>SEPM</td><td>2</td></tr>\n",
              "</tbody>\n",
              "</table>\n"
            ],
            "text/markdown": "\nA data.frame: 6 × 2\n\n| col1 &lt;chr&gt; | n &lt;int&gt; |\n|---|---|\n| CSS  | 4 |\n| DAV  | 5 |\n| IVP  | 1 |\n| ML   | 2 |\n| R    | 1 |\n| SEPM | 2 |\n\n",
            "text/latex": "A data.frame: 6 × 2\n\\begin{tabular}{ll}\n col1 & n\\\\\n <chr> & <int>\\\\\n\\hline\n\t CSS  & 4\\\\\n\t DAV  & 5\\\\\n\t IVP  & 1\\\\\n\t ML   & 2\\\\\n\t R    & 1\\\\\n\t SEPM & 2\\\\\n\\end{tabular}\n",
            "text/plain": [
              "  col1 n\n",
              "1 CSS  4\n",
              "2 DAV  5\n",
              "3 IVP  1\n",
              "4 ML   2\n",
              "5 R    1\n",
              "6 SEPM 2"
            ]
          },
          "metadata": {}
        }
      ]
    },
    {
      "cell_type": "code",
      "source": [],
      "metadata": {
        "id": "D7WkjPetOK7Q"
      },
      "execution_count": null,
      "outputs": []
    }
  ]
}